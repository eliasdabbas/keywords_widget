{
 "cells": [
  {
   "cell_type": "code",
   "execution_count": 1,
   "metadata": {},
   "outputs": [],
   "source": [
    "from itertools import permutations, combinations\n",
    "\n",
    "import ipywidgets as widgets\n",
    "from ipywidgets import interact, fixed\n",
    "from IPython.display import display\n",
    "import pandas as pd"
   ]
  },
  {
   "cell_type": "code",
   "execution_count": 2,
   "metadata": {},
   "outputs": [],
   "source": [
    "def kw_generate(products, words, max_len=3, match_types=['Exact', 'Phrase', 'Modified'],\n",
    "                campaign_name='SEM_Campaign'):\n",
    "\n",
    "    POSSIBLE_MATCH_TYPES = ['Exact', 'Phrase', 'Broad', 'Modified']\n",
    "    if not all([m in POSSIBLE_MATCH_TYPES for m in match_types]):\n",
    "        raise ValueError('please make sure match types are any of ' + \n",
    "                         str(POSSIBLE_MATCH_TYPES))\n",
    "\n",
    "    if max_len < 2:\n",
    "        raise ValueError('please make sure max_len is >= 2')\n",
    "        \n",
    "    \n",
    "    headers = ['Campaign', 'Ad Group', 'Keyword', 'Criterion Type', 'Labels']\n",
    "    keywords_list = []\n",
    "    for prod in products.split('\\n'):\n",
    "        for i in range(2, max_len+1):\n",
    "            for perm in permutations([prod] + words.split('\\n'), i):\n",
    "                if prod not in perm:\n",
    "                    continue\n",
    "                for match in match_types:\n",
    "                    row = [\n",
    "                        campaign_name,\n",
    "                        prod.title(),\n",
    "                        ' '.join(perm) if match != 'Modified' else '+' + ' +'.join(perm),\n",
    "                        match if match != 'Modified' else 'Broad',\n",
    "                        ';'.join([x.title() for x in perm if x != prod])\n",
    "                    ]\n",
    "                    keywords_list.append(row)\n",
    "    return pd.DataFrame.from_records(keywords_list, columns=headers)"
   ]
  },
  {
   "cell_type": "code",
   "execution_count": 4,
   "metadata": {},
   "outputs": [
    {
     "data": {
      "application/vnd.jupyter.widget-view+json": {
       "model_id": "48e720d02fd34d548b0009ea1e32c3e7",
       "version_major": 2,
       "version_minor": 0
      },
      "text/html": [
       "<p>Failed to display Jupyter Widget of type <code>interactive</code>.</p>\n",
       "<p>\n",
       "  If you're reading this message in the Jupyter Notebook or JupyterLab Notebook, it may mean\n",
       "  that the widgets JavaScript is still loading. If this message persists, it\n",
       "  likely means that the widgets JavaScript library is either not installed or\n",
       "  not enabled. See the <a href=\"https://ipywidgets.readthedocs.io/en/stable/user_install.html\">Jupyter\n",
       "  Widgets Documentation</a> for setup instructions.\n",
       "</p>\n",
       "<p>\n",
       "  If you're reading this message in another frontend (for example, a static\n",
       "  rendering on GitHub or <a href=\"https://nbviewer.jupyter.org/\">NBViewer</a>),\n",
       "  it may mean that your frontend doesn't currently support widgets.\n",
       "</p>\n"
      ],
      "text/plain": [
       "interactive(children=(Textarea(value='', description='products', placeholder='one\\nword\\nper\\nline', rows=5), Textarea(value='', description='words', placeholder='same\\nhere'), SelectMultiple(description='match_types', index=(0,), options=('Exact', 'Phrase', 'Broad', 'Modified'), rows=4, value=('Exact',)), Text(value='SEM_Campaign', description='campaign_name'), Output()), _dom_classes=('widget-interact',))"
      ]
     },
     "metadata": {},
     "output_type": "display_data"
    },
    {
     "data": {
      "application/vnd.jupyter.widget-view+json": {
       "model_id": "4fa5dcdff1754d6b982ebce622e184bd",
       "version_major": 2,
       "version_minor": 0
      },
      "text/html": [
       "<p>Failed to display Jupyter Widget of type <code>Button</code>.</p>\n",
       "<p>\n",
       "  If you're reading this message in the Jupyter Notebook or JupyterLab Notebook, it may mean\n",
       "  that the widgets JavaScript is still loading. If this message persists, it\n",
       "  likely means that the widgets JavaScript library is either not installed or\n",
       "  not enabled. See the <a href=\"https://ipywidgets.readthedocs.io/en/stable/user_install.html\">Jupyter\n",
       "  Widgets Documentation</a> for setup instructions.\n",
       "</p>\n",
       "<p>\n",
       "  If you're reading this message in another frontend (for example, a static\n",
       "  rendering on GitHub or <a href=\"https://nbviewer.jupyter.org/\">NBViewer</a>),\n",
       "  it may mean that your frontend doesn't currently support widgets.\n",
       "</p>\n"
      ],
      "text/plain": [
       "Button(description='Print Your Keywords', style=ButtonStyle())"
      ]
     },
     "metadata": {},
     "output_type": "display_data"
    }
   ],
   "source": [
    "kw_df = interact(kw_generate,\n",
    "             products=widgets.Textarea(placeholder='one\\nword\\nper\\nline',rows=5),\n",
    "             words=widgets.Textarea(placeholder='same\\nhere'),\n",
    "             max_len=fixed(3),\n",
    "             match_types=widgets.SelectMultiple(\n",
    "                 options=['Exact', 'Phrase','Broad','Modified'],\n",
    "                 rows=4,\n",
    "               value=('Exact',)));\n",
    "\n",
    "def print_df(d):\n",
    "    print('hello')\n",
    "    print(kw_df.widget.result.to_csv(index=False))\n",
    "    \n",
    "print_button = widgets.Button(description='Print Your Keywords')\n",
    "print_button.on_click(print_df)\n",
    "display(print_button)\n",
    "\n"
   ]
  },
  {
   "cell_type": "code",
   "execution_count": null,
   "metadata": {},
   "outputs": [],
   "source": []
  }
 ],
 "metadata": {
  "kernelspec": {
   "display_name": "Python 3",
   "language": "python",
   "name": "python3"
  },
  "language_info": {
   "codemirror_mode": {
    "name": "ipython",
    "version": 3
   },
   "file_extension": ".py",
   "mimetype": "text/x-python",
   "name": "python",
   "nbconvert_exporter": "python",
   "pygments_lexer": "ipython3",
   "version": "3.6.3"
  }
 },
 "nbformat": 4,
 "nbformat_minor": 2
}
